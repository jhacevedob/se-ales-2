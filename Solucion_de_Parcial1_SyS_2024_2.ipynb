{
  "nbformat": 4,
  "nbformat_minor": 0,
  "metadata": {
    "colab": {
      "private_outputs": true,
      "provenance": [],
      "include_colab_link": true
    },
    "kernelspec": {
      "name": "python3",
      "display_name": "Python 3"
    },
    "language_info": {
      "name": "python"
    }
  },
  "cells": [
    {
      "cell_type": "markdown",
      "metadata": {
        "id": "view-in-github",
        "colab_type": "text"
      },
      "source": [
        "<a href=\"https://colab.research.google.com/github/jhacevedob/se-ales-2/blob/main/Solucion_de_Parcial1_SyS_2024_2.ipynb\" target=\"_parent\"><img src=\"https://colab.research.google.com/assets/colab-badge.svg\" alt=\"Open In Colab\"/></a>"
      ]
    },
    {
      "cell_type": "markdown",
      "source": [
        "# Parcial 1: Señales y Sistemas 2024-II\n",
        "\n",
        " ## Profesor: Andrés Marino Álvarez Meza, Ph.D.\n",
        "\n",
        "\n",
        "## Departamento de Ingeniería Eléctrica, Electrónica, y Computación\n",
        "## Universidad Nacional de Colombia - sede Manizales"
      ],
      "metadata": {
        "id": "1fWMHXCqNtQw"
      }
    },
    {
      "cell_type": "markdown",
      "source": [
        "# Instrucciones\n",
        "\n",
        "-- Para recibir el crédito total, sus respuestas deben estar justificadas de manera clara, detallada y concreta, mostrando los procedimientos y razonamientos paso a paso.\n",
        "\n",
        "-- Está permitido el uso de herramientas de inteligencia artificial (IA). Si las utiliza, por favor declare explícitamente cómo fueron empleadas en la resolución de cada pregunta. Incluya los prompts (consultas) y las iteraciones realizadas con las IA durante el desarrollo del parcial.\n",
        "\n",
        "-- La entrega del parcial debe realizarse antes de las 23:59 del 5 de diciembre de 2024 al correo electrónico amalvarezme@unal.edu.co mediante un enlace de GitHub.\n",
        "\n",
        "-- Los códigos deben estar debidamente comentados en las celdas correspondientes y explicados en celdas de texto (markdown). Los códigos que no incluyan comentarios ni discusiones no serán considerados en la evaluación final."
      ],
      "metadata": {
        "id": "15xl7tLEP6YA"
      }
    },
    {
      "cell_type": "markdown",
      "source": [
        "# Pregunta 1 (valor 2.5 puntos)\n",
        "\n",
        "Cuál es la señal obtenida en tiempo discreto al utilizar un conversor análogo digital de 5 bits con frecuencia de muestreo de $5kHz$, entrada análoga de -3.3 a 3.3 [v], aplicado a la señal continua $x(t) = 0.3 \\cos(1000\\pi t-\\pi/4) +\n",
        "0.6 \\sin(2000\\pi t) + 0.1 \\cos(11000\\pi t-\\pi)$?. Realizar la simulación del proceso de digitalización incluyendo al menos 3 ciclos de la señal $x(t)$.\n",
        "\n",
        "En caso de que la digitalización no sea apropiada, diseñe e implemente un conversor adecuado para la señal estudiada. El convesor debe permitir configurar la cantidad de bits, rango de la entrada análoga y la frecuencia de muestreo, indicándole al usuario si dicha frecuencia es apropiada o no, y graficar la señal continua, discreta y digital."
      ],
      "metadata": {
        "id": "jmI0zzVMRLNx"
      }
    },
    {
      "cell_type": "code",
      "source": [
        "#SEÑAL DISCRETIZADA\n",
        "#SIMULACION PUNTO 1 PARCIAL 1\n",
        "import numpy as np\n",
        "import matplotlib.pyplot as plt\n",
        "\n",
        "#Datos señal continua x1(t)\n",
        "A1=0.3 #amplitud\n",
        "f1=500 #frecuencia\n",
        "T1=1/f1 #periodo\n",
        "\n",
        "#Datos señal continua x2(t)\n",
        "A2=0.6 #amplitud\n",
        "f2=1000  #frecuencia\n",
        "T2=1/f2 #periodo\n",
        "\n",
        "#Datos señal continua x3(t)\n",
        "A3=0.1 #amplitud\n",
        "f3=5500 #frecuencia\n",
        "T3=1/f3#periodo\n",
        "\n",
        "#Periodo de la señal cuasiperiodica\n",
        "T=3*(1/500)\n",
        "\n",
        "#Discretizar tiempo\n",
        "ti=0 #tiempo inicial\n",
        "tf=T #tiempo final\n",
        "Fs=20*f3 #frecuencia de muestreo\n",
        "Ts=1/Fs #tiempo de muestreo\n",
        "\n",
        "#Crear vector discretizado\n",
        "tv=np.arange(ti,tf,Ts)\n",
        "print(tv)\n",
        "print(tv.shape)\n",
        "\n",
        "#Discretizar señal\n",
        "xv=A1*np.cos((2*np.pi*f1*tv-np.pi/4))+A2*np.sin((2*np.pi*f2*tv))+A3*np.cos((2*np.pi*f3*tv-np.pi))\n",
        "print(xv)\n",
        "print(xv.shape)\n",
        "\n",
        "#imprimir señal discretizada\n",
        "plt.stem(tv,xv)\n",
        "plt.plot(tv,xv)\n",
        "plt.title(\"señal discretizada\")\n",
        "plt.xlabel(\"tiempo [seg]\")\n",
        "plt.ylabel(\"amplitud [V]\")\n",
        "plt.grid()\n",
        "plt.show()\n",
        "\n"
      ],
      "metadata": {
        "id": "Y71Rq5f7UvIP"
      },
      "execution_count": null,
      "outputs": []
    },
    {
      "cell_type": "code",
      "source": [
        "#SEÑAL CONTINUA\n",
        "%matplotlib inline\n",
        "import sympy as sym\n",
        "\n",
        "t = sym.symbols('t', real=True)#se declara la variable simbólica t\n",
        "\n",
        "\n",
        "A1 = 0.3\n",
        "om1 = 1000*sym.pi\n",
        "\n",
        "A2 = 0.6\n",
        "om2 = 2000*sym.pi\n",
        "#\n",
        "A3 = 0.1\n",
        "om3 = 11000*sym.pi\n",
        "\n",
        "#operación superposición en sympy\n",
        "x = A1*sym.cos(om1*t-sym.pi/4) + A2*sym.sin(om2*t) + A3*sym.cos(om3*t-sym.pi)\n",
        "#se grafica la señal resultante\n",
        "sym.plot(x, (t,-4,4), ylim=[-1.2, 1.2], ylabel=r'$x(t)$');"
      ],
      "metadata": {
        "id": "iezMs0EqjsoV"
      },
      "execution_count": null,
      "outputs": []
    },
    {
      "cell_type": "code",
      "source": [
        "#SEÑAL DIGITAL\n",
        "# cuantizacion de la señal x(t)\n",
        "import numpy as np\n",
        "import matplotlib.pyplot as plt\n",
        "from scipy.spatial.distance import cdist\n",
        "\n",
        "#Datos señal continua x1(t)\n",
        "A1=0.3 #amplitud\n",
        "f1=500 #frecuencia\n",
        "T1=1/f1 #periodo\n",
        "\n",
        "#Datos señal continua x2(t)\n",
        "A2=0.6 #amplitud\n",
        "f2=1000  #frecuencia\n",
        "T2=1/f2 #periodo\n",
        "\n",
        "#Datos señal continua x3(t)\n",
        "A3=0.1 #amplitud\n",
        "f3=5500 #frecuencia\n",
        "T3=1/f3#periodo\n",
        "\n",
        "#Periodo de la señal cuasiperiodica\n",
        "T=1/500\n",
        "\n",
        "#Discretizar tiempo\n",
        "ti=0 #tiempo inicial\n",
        "tf=3*T #tiempo final\n",
        "Fs=20*f3 #frecuencia de muestreo cumpliendo Nyquist\n",
        "Ts=1/Fs #tiempo de muestreo\n",
        "\n",
        "#Crear vector discretizado\n",
        "tv=np.arange(ti,tf,Ts)\n",
        "print(tv)\n",
        "print(tv.shape)\n",
        "\n",
        "#Discretizar señal\n",
        "xv=A1*np.cos((2*np.pi*f1*tv-np.pi/4))+A2*np.sin((2*np.pi*f2*tv))+A3*np.cos((2*np.pi*f3*tv-np.pi))\n",
        "print(xv)\n",
        "print(xv.shape)\n",
        "\n",
        "#Cuantización de la señal\n",
        "\n",
        "#Acondicionar la señal (modificar amplitud)\n",
        "y_max=3.3\n",
        "y_min=-3.3\n",
        "def modificar_amplitud (x,ymin,ymax):\n",
        "  #Vamos a hallar la pendiente\n",
        "  xmin=min(x) #Esta función me saca el minimo de la señal discretizada\n",
        "  xmax=max(x) #Esta función me saca el maximo de la señal discretizada\n",
        "  m=(ymax-ymin)/(xmax-xmin) #Aquí modificamos la pendiente para escalar la señal y que el dispositivo que trabaja de 4mA a 20mA la reciba de 4mA a 20mA\n",
        "  c=ymax-m*xmax #Hallamos la c, porque la ecuación y=mx+c lo requiere y para que se mantenga la forma de la señal original\n",
        "  yv=m*x+c #aqui calculamos la señal discretizada de 4mA a 20mA\n",
        "  return yv\n",
        "\n",
        "#vamos a pasarle los datos a la función modificar_amplitud para que nos calcule la señal acondicionada (yv)\n",
        "yv= modificar_amplitud(xv,y_min,y_max)\n",
        "\n",
        "#número de bits y vector de cuantización\n",
        "nbits = 5\n",
        "rmin = -3.3\n",
        "rmax = 3.3\n",
        "ve = np.linspace(rmin,rmax,2**nbits) # (rmax-rmin)/(2^#bits - 1) -> si se quiere incluir rmin y rmax\n",
        "\n",
        "#distancias y cero pendiente a vector cuantizacion\n",
        "d = cdist(yv.reshape(-1,1),ve.reshape(-1,1)) #se utiliza reshape(-1,1) para generar vectores columna como lo pide cdist\n",
        "d.shape\n",
        "#función cuantización punto a punto\n",
        "\n",
        "def my_cuantizador(yn, vq) : #yn punto a #cuantizar, vq vector de estados\n",
        "\n",
        "  Ne = vq.shape[0] #tamaño vector de estados\n",
        "  dn = cdist(yn.reshape(-1,1),vq.reshape(-1,1))#distancia yn a vector estados, reshape(-1,1) asegura vectores columna para poder utilizar cdist\n",
        "  ind = np.argmin(dn) #posición distancia min\n",
        "  return vq[ind]\n",
        "\n",
        "\n",
        "#recorrer vector cero y spam discretizado para cuantizar\n",
        "\n",
        "for i in range(yv.shape[0]):\n",
        "   if i==0: #primera muestra\n",
        "     yq = my_cuantizador(yv[i],ve)\n",
        "   else:\n",
        "     yq = np.append(yq,my_cuantizador(yv[i],ve)) #apilar datos cuantizando si i>0\n",
        "\n",
        "\n",
        "#graficar señal dsicreta\n",
        "\n",
        "\n",
        "plt.stem(tv,yv, label='ycs_dis')#cs discreta\n",
        "\n",
        "#estados de cuantización\n",
        "\n",
        "for v in ve:\n",
        "  plt.plot(tv,v*np.ones(len(tv)))\n",
        "\n",
        "# graficar señal Digital (discreta + cuantizada)\n",
        "\n",
        "plt.plot(tv,yq,c='y',marker='o',label='ydig', linewidth=2)\n",
        "\n",
        "plt.legend()\n",
        "plt.grid()\n",
        "plt.xlabel('t[Seg]')\n",
        "plt.ylabel('Amplitud [A]')\n",
        "plt.show()"
      ],
      "metadata": {
        "id": "rggR37xQftpW"
      },
      "execution_count": null,
      "outputs": []
    },
    {
      "cell_type": "markdown",
      "source": [
        "# Pregunta 2 (valor 2.5 puntos)\n",
        "\n",
        "Se dispone de un sistema modelado como una \"caja negra\" (ver celdas de código). Su tarea es analizar y comprobar mediante simulaciones si el sistema cumple con las propiedades de linealidad e invariancia en el tiempo. En caso de que el sistema sea lineal e invariante con el tiempo, determine su respuesta al impulso y utilice esta respuesta para calcular la salida del sistema ante la siguiente señal:\n",
        "\n",
        "$x[n] = \\sin[100 \\pi n ] + \\sin[600 \\pi n]$"
      ],
      "metadata": {
        "id": "5Za-WbLpSele"
      }
    },
    {
      "cell_type": "code",
      "source": [
        "# cargar sistema\n",
        "FILEID = \"1J9rhh0wWHZSBd8XmWGt1ZpCsMDuoUFmm\"\n",
        "!wget --load-cookies /tmp/cookies.txt \"https://docs.google.com/uc?export=download&confirm=$(wget --quiet --save-cookies /tmp/cookies.txt --keep-session-cookies --no-check-certificate 'https://docs.google.com/uc?export=download&id='$FILEID -O- | sed -rn 's/.*confirm=([0-9A-Za-z_]+).*/\\1\\n/p')&id=\"$FILEID -O P1_model.zip && rm -rf /tmp/cookies.txt\n",
        "!unzip -o P1_model.zip\n",
        "!dir"
      ],
      "metadata": {
        "id": "6yJMMFK6zo5K"
      },
      "execution_count": null,
      "outputs": []
    },
    {
      "cell_type": "code",
      "source": [
        "import numpy as np\n",
        "import matplotlib.pyplot as plt\n",
        "import joblib\n",
        "from P1_model import system_\n",
        "from scipy.signal import firwin, freqz, lfilter, filtfilt\n",
        "\n",
        "#sistema pregunta 2\n",
        "my_system = system_.My_System()\n",
        "my_system.create_()\n",
        "fs = my_system.fs #frecuencia de muestreo\n",
        "t = np.arange(-0.01, 0.02, 1/fs)  # Tiempo\n",
        "signal_u = np.heaviside(t,1) # función heaviside\n",
        "y_u = my_system.predict(signal_u)\n",
        "\n",
        "\n",
        "# Visualización de las señales\n",
        "fig, axs = plt.subplots(2,1)\n",
        "axs[0].stem(t, signal_u, label='Señal de entrada')\n",
        "axs[0].set_xlabel('Tiempo (s)')\n",
        "axs[0].set_ylabel('Amplitud')\n",
        "axs[0].legend()\n",
        "axs[0].grid()\n",
        "axs[1].stem(t,y_u, label='Señal salida')\n",
        "axs[1].set_xlabel('Tiempo (s)')\n",
        "axs[1].set_ylabel('Amplitud')\n",
        "axs[1].legend()\n",
        "axs[1].grid()\n",
        "plt.tight_layout()\n",
        "plt.show()"
      ],
      "metadata": {
        "id": "nUX7Vr1fTUYW"
      },
      "execution_count": null,
      "outputs": []
    },
    {
      "cell_type": "code",
      "execution_count": null,
      "metadata": {
        "id": "DSfPWCpPNJa4"
      },
      "outputs": [],
      "source": []
    }
  ]
}